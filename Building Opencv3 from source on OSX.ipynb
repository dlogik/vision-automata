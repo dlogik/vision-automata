{
 "cells": [
  {
   "cell_type": "markdown",
   "metadata": {},
   "source": [
    "### Installing OpenCV3 on OSX Yosemite v10.10.3\n",
    "\n",
    "These are the steps I took to build opencv3 v3.0.0-rc1 with extra modules on a 2014 Macbook Pro Retina running OSX Yosemite v10.10.3. I built with Python 2.7.10 and OpenGL support using the QT GUI framework.\n",
    "\n",
    "Install and configure Homebrew from:\n",
    "\n",
    "http://brew.sh/\n",
    "\n",
    "Install Python 2.7.x and QT from Homebrew repositories\n",
    "\n",
    "```bash\n",
    "brew install python\n",
    "brew install QT\n",
    "```\n",
    "\n",
    "Clone Opencv3 from Github repository\n",
    "\n",
    "```bash\n",
    "git clone https://github.com/Itseez/opencv.git opencv-3.0.0-rc1\n",
    "git checkout tags/3.0.0-rc1\n",
    "cd opencv-3.0.0-rc1\n",
    "```\n",
    "\n",
    "Clone repository for OpenCV's extra modules\n",
    "\n",
    "```bash\n",
    "git clone https://github.com/Itseez/opencv_contrib.git\n",
    "mkdir build\n",
    "```\n",
    "\n",
    "Build OpenCV3. Replace '/Users/username/Downloads/' with the path you cloned the source files to. I was using Python 2.7.10 so make sure the version you are using is specified correctly.\n",
    "\n",
    "```bash\n",
    "cmake -D WITH_CUDA=ON -D WITH_QT=ON -D WITH_OPENGL=ON -D CMAKE_INSTALL_PREFIX=/Users/username/src/opencv-3.0.0-rc1/build -D CMAKE_BUILD_TYPE=RELEASE -D PYTHON_EXECUTABLE=$(which python) -D PYTHON_INCLUDE_DIR=/usr/local/Cellar/python/2.7.10/Frameworks/Python.framework/Headers -DOPENCV_EXTRA_MODULES_PATH=/Users/username/src/opencv-3.0.0-rc1/opencv_contrib/modules .. \n",
    "make\n",
    "make install\n",
    "```\n",
    "\n",
    "The binaries will be installed into the path specified with the CMAKE_INSTALL_PREFIX variable.\n"
   ]
  },
  {
   "cell_type": "code",
   "execution_count": null,
   "metadata": {
    "collapsed": true
   },
   "outputs": [],
   "source": []
  }
 ],
 "metadata": {
  "kernelspec": {
   "display_name": "Python 2",
   "language": "python",
   "name": "python2"
  },
  "language_info": {
   "codemirror_mode": {
    "name": "ipython",
    "version": 2
   },
   "file_extension": ".py",
   "mimetype": "text/x-python",
   "name": "python",
   "nbconvert_exporter": "python",
   "pygments_lexer": "ipython2",
   "version": "2.7.10"
  }
 },
 "nbformat": 4,
 "nbformat_minor": 0
}
