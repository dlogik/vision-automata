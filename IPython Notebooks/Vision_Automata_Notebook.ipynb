{
 "cells": [
  {
   "cell_type": "markdown",
   "metadata": {},
   "source": [
    "Ideas for Vision Automata project\n",
    "==================\n",
    "\n",
    "- How does the object look relative to the environment? eg. Will object be contrasted against a green/blue screen. A bright blob on dull background can very well be tracked with color as a feature.\n",
    "\n",
    "- How much of motion is expected? Will the object change in scale and/or rotate? Template matching is not scale invariant, but SURF/SIFT is.\n",
    "\n",
    "- How fast does it need to run, what's your quality vs speed trade-off (C++ vs Python language) ???\n",
    "\n",
    "#### Select feature descriptors to use\n",
    "\n",
    "- Decide whether to use one or a variety of feature descriptors.\n",
    "\n",
    "- Maybe try different individual or a combination of detectors if speed is not a concern.\n",
    "\n",
    "- Allow the user to select up to 3 objects in frame 1 of the video, then detect and track starting from frame 2. \n",
    "\n",
    "- A global find method is required which searches the whole frame, possibly from more than one scale when starting up or after object disappears.\n",
    "- Another method searches within a smaller region while tracking. \n",
    "- A gating method that tells whether find was a success."
   ]
  },
  {
   "cell_type": "code",
   "execution_count": null,
   "metadata": {
    "collapsed": true
   },
   "outputs": [],
   "source": []
  }
 ],
 "metadata": {
  "kernelspec": {
   "display_name": "Python 2",
   "language": "python",
   "name": "python2"
  },
  "language_info": {
   "codemirror_mode": {
    "name": "ipython",
    "version": 2
   },
   "file_extension": ".py",
   "mimetype": "text/x-python",
   "name": "python",
   "nbconvert_exporter": "python",
   "pygments_lexer": "ipython2",
   "version": "2.7.9"
  }
 },
 "nbformat": 4,
 "nbformat_minor": 0
}
